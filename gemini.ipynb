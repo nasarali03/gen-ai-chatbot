{
  "cells": [
    {
      "cell_type": "code",
      "execution_count": null,
      "id": "b15c2f96",
      "metadata": {},
      "outputs": [
        {
          "name": "stdout",
          "output_type": "stream",
          "text": [
            "User: I've been feeling really overwhelmed with work lately and having trouble sleeping.\n"
          ]
        }
      ],
      "source": [
        "import os\n",
        "from google import genai\n",
        "from google.genai import types\n",
        "\n",
        "# Read API key from environment variable\n",
        "api_key = os.getenv(\"GEMINI_API_KEY\")\n",
        "if not api_key:\n",
        "    raise ValueError(\"GEMINI_API_KEY environment variable not set.\")\n",
        "\n",
        "client = genai.Client()\n",
        "\n",
        "def get_mental_health_response(user_input):\n",
        "    system_prompt = \"\"\"AI Mental Health Assistant: Provide empathetic support, practical coping strategies, and CBT techniques. Not a therapist. Crisis: 988 or Text HOME to 741741.\"\"\"\n",
        "\n",
        "    response = client.models.generate_content(\n",
        "        model=\"gemini-2.5-flash\",\n",
        "        config=types.GenerateContentConfig(\n",
        "            system_instruction=system_prompt),\n",
        "        contents=user_input\n",
        "    )\n",
        "    \n",
        "    return response.text\n",
        "\n",
        "# Example usage\n",
        "user_message = \"I've been feeling really overwhelmed with work lately and having trouble sleeping.\"\n",
        "print(\"User:\", user_message)\n",
        "print(\"\\nAssistant:\", get_mental_health_response(user_message))"
      ]
    },
    {
      "cell_type": "code",
      "execution_count": null,
      "metadata": {},
      "outputs": [],
      "source": []
    }
  ],
  "metadata": {
    "kernelspec": {
      "display_name": ".venv",
      "language": "python",
      "name": "python3"
    },
    "language_info": {
      "codemirror_mode": {
        "name": "ipython",
        "version": 3
      },
      "file_extension": ".py",
      "mimetype": "text/x-python",
      "name": "python",
      "nbconvert_exporter": "python",
      "pygments_lexer": "ipython3",
      "version": "3.13.5"
    }
  },
  "nbformat": 4,
  "nbformat_minor": 5
}
